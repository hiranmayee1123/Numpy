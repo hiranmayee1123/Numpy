{
 "cells": [
  {
   "cell_type": "code",
   "execution_count": 1,
   "metadata": {},
   "outputs": [
    {
     "name": "stdout",
     "output_type": "stream",
     "text": [
      "Rank of A: 3\n",
      "\n",
      "Trace of A: 11\n",
      "\n",
      "Determinant of A: -306.0\n",
      "\n",
      "Inverse of A:\n",
      " [[ 0.17647059 -0.00326797 -0.02287582]\n",
      " [ 0.05882353 -0.13071895  0.08496732]\n",
      " [-0.11764706  0.1503268   0.05228758]]\n",
      "\n",
      "Matrix A raised to power 3:\n",
      " [[336 162 228]\n",
      " [406 162 469]\n",
      " [698 702 905]]\n"
     ]
    }
   ],
   "source": [
    "import numpy as np\n",
    " \n",
    "A = np.array([[6, 1, 1],\n",
    "              [4, -2, 5],\n",
    "              [2, 8, 7]])\n",
    " \n",
    "# Rank of a matrix\n",
    "print(\"Rank of A:\", np.linalg.matrix_rank(A))\n",
    " \n",
    "# Trace of matrix A\n",
    "print(\"\\nTrace of A:\", np.trace(A))\n",
    " \n",
    "# Determinant of a matrix\n",
    "print(\"\\nDeterminant of A:\", np.linalg.det(A))\n",
    " \n",
    "# Inverse of matrix A\n",
    "print(\"\\nInverse of A:\\n\", np.linalg.inv(A))\n",
    " \n",
    "print(\"\\nMatrix A raised to power 3:\\n\",\n",
    "           np.linalg.matrix_power(A, 3))"
   ]
  },
  {
   "cell_type": "code",
   "execution_count": 2,
   "metadata": {},
   "outputs": [
    {
     "name": "stdout",
     "output_type": "stream",
     "text": [
      "Array is : [[ 1.+0.j -0.-2.j]\n",
      " [ 0.+2.j  5.+0.j]]\n",
      "Eigen value is : [0.17157288 5.82842712]\n",
      "Eigen value is : [[-0.92387953-0.j         -0.38268343+0.j        ]\n",
      " [ 0.        +0.38268343j  0.        -0.92387953j]]\n"
     ]
    }
   ],
   "source": [
    "from numpy import linalg as geek\n",
    " \n",
    "# Creating an array using array \n",
    "# function\n",
    "a = np.array([[1, -2j], [2j, 5]])\n",
    " \n",
    "print(\"Array is :\",a)\n",
    " \n",
    "# calculating an eigen value\n",
    "# using eigh() function\n",
    "c, d = geek.eigh(a)\n",
    " \n",
    "print(\"Eigen value is :\", c)\n",
    "print(\"Eigen value is :\", d)"
   ]
  },
  {
   "cell_type": "code",
   "execution_count": 3,
   "metadata": {},
   "outputs": [
    {
     "name": "stdout",
     "output_type": "stream",
     "text": [
      "Dot Product of scalar values  :  20\n",
      "Dot Product  :  (-7+22j)\n"
     ]
    }
   ],
   "source": [
    "import numpy as geek\n",
    " \n",
    "# Scalars\n",
    "product = geek.dot(5, 4)\n",
    "print(\"Dot Product of scalar values  : \", product)\n",
    " \n",
    "# 1D array\n",
    "vector_a = 2 + 3j\n",
    "vector_b = 4 + 5j\n",
    " \n",
    "product = geek.dot(vector_a, vector_b)\n",
    "print(\"Dot Product  : \", product)"
   ]
  },
  {
   "cell_type": "code",
   "execution_count": 4,
   "metadata": {},
   "outputs": [
    {
     "name": "stdout",
     "output_type": "stream",
     "text": [
      "Dot Product  :  (23-2j)\n"
     ]
    }
   ],
   "source": [
    "import numpy as geek\n",
    " \n",
    "# 1D array\n",
    "vector_a = 2 + 3j\n",
    "vector_b = 4 + 5j\n",
    " \n",
    "product = geek.vdot(vector_a, vector_b)\n",
    "print(\"Dot Product  : \", product)"
   ]
  },
  {
   "cell_type": "code",
   "execution_count": 5,
   "metadata": {},
   "outputs": [
    {
     "name": "stdout",
     "output_type": "stream",
     "text": [
      "('Solution of linear equations:', array([2., 3.]))\n"
     ]
    }
   ],
   "source": [
    "# Python Program illustrating\n",
    "# numpy.linalg.solve() method\n",
    " \n",
    "import numpy as np\n",
    " \n",
    "# Creating an array using array\n",
    "# function\n",
    "a = np.array([[1, 2], [3, 4]])\n",
    " \n",
    "# Creating an array using array\n",
    "# function\n",
    "b = np.array([8, 18])\n",
    " \n",
    "print((\"Solution of linear equations:\", \n",
    "      np.linalg.solve(a, b)))"
   ]
  },
  {
   "cell_type": "code",
   "execution_count": 6,
   "metadata": {},
   "outputs": [
    {
     "name": "stderr",
     "output_type": "stream",
     "text": [
      "<ipython-input-6-a4222f476f56>:11: FutureWarning: `rcond` parameter will change to the default of machine precision times ``max(M, N)`` where M and N are the input matrix dimensions.\n",
      "To use the future default and silence this warning we advise to pass `rcond=None`, to keep using the old, explicitly pass `rcond=-1`.\n",
      "  w = np.linalg.lstsq(A.T, y)[0]\n"
     ]
    },
    {
     "data": {
      "image/png": "[encoded data removed]",
      "text/plain": [
       "<Figure size 432x288 with 1 Axes>"
      ]
     },
     "metadata": {
      "needs_background": "light"
     },
     "output_type": "display_data"
    }
   ],
   "source": [
    "import numpy as np\n",
    "import matplotlib.pyplot as plt\n",
    " \n",
    "# x co-ordinates\n",
    "x = np.arange(0, 9)\n",
    "A = np.array([x, np.ones(9)])\n",
    " \n",
    "# linearly generated sequence\n",
    "y = [19, 20, 20.5, 21.5, 22, 23, 23, 25.5, 24]\n",
    "# obtaining the parameters of regression line\n",
    "w = np.linalg.lstsq(A.T, y)[0] \n",
    " \n",
    "# plotting the line\n",
    "line = w[0]*x + w[1] # regression line\n",
    "plt.plot(x, line, 'r-')\n",
    "plt.plot(x, y, 'o')\n",
    "plt.show()"
   ]
  },
  {
   "cell_type": "code",
   "execution_count": 7,
   "metadata": {},
   "outputs": [
    {
     "name": "stdout",
     "output_type": "stream",
     "text": [
      "('\\nDeterminant of A:', -306.0)\n"
     ]
    }
   ],
   "source": [
    "import numpy as np\n",
    " \n",
    "# creating an array using \n",
    "# array method\n",
    "A = np.array([[6, 1, 1],\n",
    "              [4, -2, 5],\n",
    "              [2, 8, 7]])\n",
    " \n",
    " \n",
    "print((\"\\nDeterminant of A:\"\n",
    "     , np.linalg.det(A)))"
   ]
  },
  {
   "cell_type": "code",
   "execution_count": 8,
   "metadata": {},
   "outputs": [
    {
     "name": "stdout",
     "output_type": "stream",
     "text": [
      "\n",
      "Trace of A: 11\n"
     ]
    }
   ],
   "source": [
    "import numpy as np\n",
    " \n",
    "# creating an array using \n",
    "# array method\n",
    "A = np.array([[6, 1, 1],\n",
    "              [4, -2, 5],\n",
    "              [2, 8, 7]])\n",
    " \n",
    " \n",
    "print(\"\\nTrace of A:\", np.trace(A))"
   ]
  },
  {
   "cell_type": "code",
   "execution_count": null,
   "metadata": {},
   "outputs": [],
   "source": []
  }
 ],
 "metadata": {
  "kernelspec": {
   "display_name": "Python 3",
   "language": "python",
   "name": "python3"
  },
  "language_info": {
   "codemirror_mode": {
    "name": "ipython",
    "version": 3
   },
   "file_extension": ".py",
   "mimetype": "text/x-python",
   "name": "python",
   "nbconvert_exporter": "python",
   "pygments_lexer": "ipython3",
   "version": "3.8.5"
  }
 },
 "nbformat": 4,
 "nbformat_minor": 4
}
