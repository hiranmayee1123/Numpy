{
 "cells": [
  {
   "cell_type": "code",
   "execution_count": 2,
   "metadata": {},
   "outputs": [
    {
     "ename": "TypeError",
     "evalue": "can't multiply sequence by non-int of type 'list'",
     "output_type": "error",
     "traceback": [
      "\u001b[1;31m---------------------------------------------------------------------------\u001b[0m",
      "\u001b[1;31mTypeError\u001b[0m                                 Traceback (most recent call last)",
      "\u001b[1;32m<ipython-input-2-7d745d674c75>\u001b[0m in \u001b[0;36m<module>\u001b[1;34m\u001b[0m\n\u001b[0;32m      3\u001b[0m \u001b[1;33m\u001b[0m\u001b[0m\n\u001b[0;32m      4\u001b[0m \u001b[1;31m# Multiplying both lists directly would give an error.\u001b[0m\u001b[1;33m\u001b[0m\u001b[1;33m\u001b[0m\u001b[1;33m\u001b[0m\u001b[0m\n\u001b[1;32m----> 5\u001b[1;33m \u001b[0mprint\u001b[0m\u001b[1;33m(\u001b[0m\u001b[0mlist1\u001b[0m\u001b[1;33m*\u001b[0m\u001b[0mlist2\u001b[0m\u001b[1;33m)\u001b[0m\u001b[1;33m\u001b[0m\u001b[1;33m\u001b[0m\u001b[0m\n\u001b[0m",
      "\u001b[1;31mTypeError\u001b[0m: can't multiply sequence by non-int of type 'list'"
     ]
    }
   ],
   "source": [
    "list1 = [1, 2, 3, 4 ,5, 6]\n",
    "list2 = [10, 9, 8, 7, 6, 5]\n",
    " \n",
    "# Multiplying both lists directly would give an error.\n",
    "print(list1*list2)"
   ]
  },
  {
   "cell_type": "code",
   "execution_count": 3,
   "metadata": {},
   "outputs": [
    {
     "name": "stdout",
     "output_type": "stream",
     "text": [
      "[10 18 24 28 30 30]\n"
     ]
    }
   ],
   "source": [
    "import numpy as np\n",
    " \n",
    "list1 = [1, 2, 3, 4, 5, 6]\n",
    "list2 = [10, 9, 8, 7, 6, 5]\n",
    " \n",
    "# Convert list1 into a NumPy array\n",
    "a1 = np.array(list1)\n",
    " \n",
    "# Convert list2 into a NumPy array\n",
    "a2 = np.array(list2)\n",
    " \n",
    "print(a1*a2)"
   ]
  },
  {
   "cell_type": "code",
   "execution_count": 4,
   "metadata": {},
   "outputs": [
    {
     "name": "stdout",
     "output_type": "stream",
     "text": [
      "\n",
      " A sequential array with a negative step: \n",
      " [10  8  6  4  2]\n",
      "\n",
      " Elements at these indices are:\n",
      " [4 8 6]\n"
     ]
    }
   ],
   "source": [
    "# the use of index arrays.\n",
    "import numpy as np\n",
    " \n",
    "# Create a sequence of integers from\n",
    "# 10 to 1 with a step of -2\n",
    "a = np.arange(10, 1, -2) \n",
    "print(\"\\n A sequential array with a negative step: \\n\",a)\n",
    " \n",
    "# Indexes are specified inside the np.array method.\n",
    "newarr = a[np.array([3, 1, 2 ])]\n",
    "print(\"\\n Elements at these indices are:\\n\",newarr)\n"
   ]
  },
  {
   "cell_type": "code",
   "execution_count": 5,
   "metadata": {},
   "outputs": [
    {
     "name": "stdout",
     "output_type": "stream",
     "text": [
      "\n",
      " Elements are : \n",
      " [2 4 7]\n"
     ]
    }
   ],
   "source": [
    "import numpy as np\n",
    " \n",
    "# NumPy array with elements from 1 to 9\n",
    "x = np.array([1, 2, 3, 4, 5, 6, 7, 8, 9])\n",
    " \n",
    "# Index values can be negative.\n",
    "arr = x[np.array([1, 3, -3])]\n",
    "print(\"\\n Elements are : \\n\",arr)"
   ]
  },
  {
   "cell_type": "code",
   "execution_count": 6,
   "metadata": {},
   "outputs": [
    {
     "name": "stdout",
     "output_type": "stream",
     "text": [
      "\n",
      " Array is:\n",
      "  [ 0  1  2  3  4  5  6  7  8  9 10 11 12 13 14 15 16 17 18 19]\n",
      "\n",
      " a[-8:17:1]  =  [12 13 14 15 16]\n",
      "\n",
      " a[10:]  =  [10 11 12 13 14 15 16 17 18 19]\n"
     ]
    }
   ],
   "source": [
    "import numpy as np\n",
    " \n",
    "# Arrange elements from 0 to 19\n",
    "a = np.arange(20)\n",
    "print(\"\\n Array is:\\n \",a)\n",
    " \n",
    "# a[start:stop:step]\n",
    "print(\"\\n a[-8:17:1]  = \",a[-8:17:1]) \n",
    " \n",
    "# The : operator means all elements till the end.\n",
    "print(\"\\n a[10:]  = \",a[10:])"
   ]
  },
  {
   "cell_type": "code",
   "execution_count": 18,
   "metadata": {},
   "outputs": [
    {
     "name": "stdout",
     "output_type": "stream",
     "text": [
      "[[ 2  5]\n",
      " [ 8 11]]\n"
     ]
    }
   ],
   "source": [
    "# Python program for indexing using \n",
    "# basic slicing with ellipsis\n",
    "import numpy as np\n",
    " \n",
    "# A 3 dimensional array.\n",
    "b = np.array([[[1, 2, 3],[4, 5, 6]],\n",
    "              [[7, 8, 9],[10, 11, 12]]])\n",
    " \n",
    "print(b[...,1]) #Equivalent to b[: ,: ,1 ]"
   ]
  },
  {
   "cell_type": "code",
   "execution_count": 19,
   "metadata": {},
   "outputs": [
    {
     "name": "stdout",
     "output_type": "stream",
     "text": [
      "[1 3 6]\n"
     ]
    }
   ],
   "source": [
    "# Python program showing advanced indexing\n",
    "import numpy as np\n",
    " \n",
    "a = np.array([[1 ,2 ],[3 ,4 ],[5 ,6 ]])\n",
    "print(a[[0 ,1 ,2 ],[0 ,0 ,1]])"
   ]
  },
  {
   "cell_type": "code",
   "execution_count": 22,
   "metadata": {},
   "outputs": [
    {
     "name": "stdout",
     "output_type": "stream",
     "text": [
      "[[4 5]]\n",
      "[[4 5]]\n"
     ]
    }
   ],
   "source": [
    "# Python program showing advanced \n",
    "# and basic indexing\n",
    "import numpy as np\n",
    " \n",
    "a = np.array([[0 ,1 ,2],[3 ,4 ,5 ],\n",
    "              [6 ,7 ,8],[9 ,10 ,11]])\n",
    " \n",
    "print(a[1:2 ,1:3 ])\n",
    "print(a[1:2 ,[1,2]])"
   ]
  },
  {
   "cell_type": "code",
   "execution_count": 23,
   "metadata": {},
   "outputs": [
    {
     "name": "stdout",
     "output_type": "stream",
     "text": [
      "[ 80 100]\n"
     ]
    }
   ],
   "source": [
    "import numpy as np\n",
    " \n",
    "a = np.array([10, 40, 80, 50, 100])\n",
    "print(a[a>50])"
   ]
  },
  {
   "cell_type": "code",
   "execution_count": 24,
   "metadata": {},
   "outputs": [
    {
     "name": "stdout",
     "output_type": "stream",
     "text": [
      "[1600 6400]\n",
      "[[ 5  5]\n",
      " [16  4]]\n"
     ]
    }
   ],
   "source": [
    "import numpy as np\n",
    " \n",
    "a = np.array([10, 40, 80, 50, 100])\n",
    "print(a[a%40==0]**2)\n",
    "\n",
    " \n",
    "b = np.array([[5, 5],[4, 5],[16, 4]])\n",
    "sumrow = b.sum(-1)\n",
    "print(b[sumrow%10==0])"
   ]
  },
  {
   "cell_type": "code",
   "execution_count": null,
   "metadata": {},
   "outputs": [],
   "source": []
  }
 ],
 "metadata": {
  "kernelspec": {
   "display_name": "Python 3",
   "language": "python",
   "name": "python3"
  },
  "language_info": {
   "codemirror_mode": {
    "name": "ipython",
    "version": 3
   },
   "file_extension": ".py",
   "mimetype": "text/x-python",
   "name": "python",
   "nbconvert_exporter": "python",
   "pygments_lexer": "ipython3",
   "version": "3.8.5"
  }
 },
 "nbformat": 4,
 "nbformat_minor": 4
}
