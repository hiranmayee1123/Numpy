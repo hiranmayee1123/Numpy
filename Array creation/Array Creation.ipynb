{
 "cells": [
  {
   "cell_type": "markdown",
   "metadata": {},
   "source": [
    "# Array Creation"
   ]
  },
  {
   "cell_type": "markdown",
   "metadata": {},
   "source": [
    "# 1. Using List"
   ]
  },
  {
   "cell_type": "code",
   "execution_count": 1,
   "metadata": {},
   "outputs": [
    {
     "name": "stdout",
     "output_type": "stream",
     "text": [
      "1\n",
      "2\n",
      "3\n",
      "4\n",
      "5\n"
     ]
    }
   ],
   "source": [
    "    arr=[1, 2, 3, 4, 5]\n",
    "    for i in arr:\n",
    "        print(i)"
   ]
  },
  {
   "cell_type": "markdown",
   "metadata": {},
   "source": [
    "# 2. Using array functions"
   ]
  },
  {
   "cell_type": "code",
   "execution_count": 2,
   "metadata": {},
   "outputs": [
    {
     "name": "stdout",
     "output_type": "stream",
     "text": [
      "The new created array is : 1 2 3 \r\n"
     ]
    }
   ],
   "source": [
    "import array\n",
    "  \n",
    "# initializing array with array values\n",
    "# initializes array with signed integers\n",
    "arr = array.array('i', [1, 2, 3]) \n",
    " \n",
    "# printing original array\n",
    "print (\"The new created array is : \",end=\"\")\n",
    "for i in range (0,3):\n",
    "    print (arr[i], end=\" \")\n",
    " \n",
    "print (\"\\r\")"
   ]
  },
  {
   "cell_type": "markdown",
   "metadata": {},
   "source": [
    "# 3. Using numpy methods "
   ]
  },
  {
   "cell_type": "code",
   "execution_count": 6,
   "metadata": {},
   "outputs": [
    {
     "name": "stdout",
     "output_type": "stream",
     "text": [
      "Matrix b : \n",
      " [0 0]\n",
      "\n",
      "Matrix a : \n",
      " [[0 0]\n",
      " [0 0]]\n",
      "\n",
      "Matrix c : \n",
      " [[0. 0. 0.]\n",
      " [0. 0. 0.]\n",
      " [0. 0. 0.]]\n"
     ]
    }
   ],
   "source": [
    "# numpy.empty method\n",
    " \n",
    "import numpy as node\n",
    " \n",
    "b = node.empty(2, dtype = int)\n",
    "print(\"Matrix b : \\n\", b)\n",
    " \n",
    "a = node.empty([2, 2], dtype = int)\n",
    "print(\"\\nMatrix a : \\n\", a)\n",
    " \n",
    "c = node.empty([3, 3])\n",
    "print(\"\\nMatrix c : \\n\", c)"
   ]
  },
  {
   "cell_type": "code",
   "execution_count": 10,
   "metadata": {},
   "outputs": [
    {
     "name": "stdout",
     "output_type": "stream",
     "text": [
      "Matrix b : \n",
      " [0 0]\n",
      "\n",
      "Matrix a : \n",
      " [[0 0]\n",
      " [0 0]]\n",
      "\n",
      "Matrix c : \n",
      " [[0. 0. 0.]\n",
      " [0. 0. 0.]\n",
      " [0. 0. 0.]]\n"
     ]
    }
   ],
   "source": [
    "# numpy.zeros method\n",
    " \n",
    "import numpy as node\n",
    " \n",
    "b = node.zeros(2, dtype = int)\n",
    "print(\"Matrix b : \\n\", b)\n",
    " \n",
    "a = node.zeros([2, 2], dtype = int)\n",
    "print(\"\\nMatrix a : \\n\", a)\n",
    " \n",
    "c = node.zeros([3, 3])\n",
    "print(\"\\nMatrix c : \\n\", c)"
   ]
  },
  {
   "cell_type": "markdown",
   "metadata": {},
   "source": [
    "# Reshaping array"
   ]
  },
  {
   "cell_type": "code",
   "execution_count": 11,
   "metadata": {},
   "outputs": [
    {
     "name": "stdout",
     "output_type": "stream",
     "text": [
      "Original array : \n",
      " [0 1 2 3 4 5 6 7]\n",
      "\n",
      "array reshaped with 2 rows and 4 columns : \n",
      " [[0 1 2 3]\n",
      " [4 5 6 7]]\n",
      "\n",
      "array reshaped with 2 rows and 4 columns : \n",
      " [[0 1]\n",
      " [2 3]\n",
      " [4 5]\n",
      " [6 7]]\n",
      "\n",
      "Original array reshaped to 3D : \n",
      " [[[0 1]\n",
      "  [2 3]]\n",
      "\n",
      " [[4 5]\n",
      "  [6 7]]]\n"
     ]
    }
   ],
   "source": [
    "# numpy.reshape() method\n",
    " \n",
    "import numpy as node\n",
    " \n",
    "array = node.arange(8)\n",
    "print(\"Original array : \\n\", array)\n",
    " \n",
    "# shape array with 2 rows and 4 columns\n",
    "array = node.arange(8).reshape(2, 4)\n",
    "print(\"\\narray reshaped with 2 rows and 4 columns : \\n\", array)\n",
    " \n",
    "# shape array with 2 rows and 4 columns\n",
    "array = node.arange(8).reshape(4 ,2)\n",
    "print(\"\\narray reshaped with 2 rows and 4 columns : \\n\", array)\n",
    " \n",
    "# Constructs 3D array\n",
    "array = node.arange(8).reshape(2, 2, 2)\n",
    "print(\"\\nOriginal array reshaped to 3D : \\n\", array)"
   ]
  },
  {
   "cell_type": "markdown",
   "metadata": {},
   "source": [
    "# arange([start,] stop[, step,][, dtype]) "
   ]
  },
  {
   "cell_type": "code",
   "execution_count": 13,
   "metadata": {},
   "outputs": [
    {
     "name": "stdout",
     "output_type": "stream",
     "text": [
      "A\n",
      " [[0 1]\n",
      " [2 3]] \n",
      "\n",
      "A\n",
      " [4 5 6 7 8 9] \n",
      "\n",
      "A\n",
      " [ 4  7 10 13 16 19] \n",
      "\n"
     ]
    }
   ],
   "source": [
    "# numpy.arange method\n",
    " \n",
    "import numpy as node\n",
    " \n",
    "print(\"A\\n\", node.arange(4).reshape(2, 2), \"\\n\")\n",
    " \n",
    "print(\"A\\n\", node.arange(4, 10), \"\\n\")\n",
    " \n",
    "print(\"A\\n\", node.arange(4, 20, 3), \"\\n\")"
   ]
  },
  {
   "cell_type": "markdown",
   "metadata": {},
   "source": [
    "# numpy.linspace(start, stop, num = 50, endpoint = True, retstep = False, dtype = None) "
   ]
  },
  {
   "cell_type": "code",
   "execution_count": 14,
   "metadata": {},
   "outputs": [
    {
     "name": "stdout",
     "output_type": "stream",
     "text": [
      "B\n",
      " (array([2.  , 2.25, 2.5 , 2.75, 3.  ]), 0.25) \n",
      "\n",
      "A\n",
      " [0.         0.22039774 0.42995636 0.6183698  0.77637192 0.8961922\n",
      " 0.9719379  0.99988386 0.9786557  0.90929743]\n"
     ]
    }
   ],
   "source": [
    "# numpy.linspace method\n",
    " \n",
    "import numpy as node\n",
    " \n",
    "# restep set to True\n",
    "print(\"B\\n\", node.linspace(2.0, 3.0, num=5, retstep=True), \"\\n\")\n",
    " \n",
    "# To evaluate sin() in long range \n",
    "x = node.linspace(0, 2, 10)\n",
    "print(\"A\\n\", node.sin(x))"
   ]
  },
  {
   "cell_type": "markdown",
   "metadata": {},
   "source": [
    "# numpy.ndarray.flatten(order = ‘C’)"
   ]
  },
  {
   "cell_type": "code",
   "execution_count": 15,
   "metadata": {},
   "outputs": [
    {
     "name": "stdout",
     "output_type": "stream",
     "text": [
      "[[1 2]\n",
      " [3 4]]\n",
      "[[1 2]\n",
      " [3 4]]\n"
     ]
    }
   ],
   "source": [
    "# numpy.flatten() method\n",
    " \n",
    "import numpy as node\n",
    " \n",
    "array = node.array([[1, 2], [3, 4]])\n",
    " \n",
    "# using flatten method\n",
    "array.flatten()\n",
    "print(array)\n",
    " \n",
    "#using fatten method \n",
    "array.flatten('F')\n",
    "print(array)"
   ]
  },
  {
   "cell_type": "markdown",
   "metadata": {},
   "source": [
    "# Methods for array creation in Numpy\n",
    "\n",
    "empty()\tReturn a new array of given shape and type, without initializing entries\n",
    "\n",
    "empty_like()\tReturn a new array with the same shape and type as a given array\n",
    "\n",
    "eye()\tReturn a 2-D array with ones on the diagonal and zeros elsewhere.\n",
    "\n",
    "identity()\tReturn the identity array\n",
    "\n",
    "ones()\tReturn a new array of given shape and type, filled with ones\n",
    "\n",
    "ones_like()\tReturn an array of ones with the same shape and type as a given array\n",
    "\n",
    "zeros()\tReturn a new array of given shape and type, filled with zeros\n",
    "\n",
    "zeros_like()\tReturn an array of zeros with the same shape and type as a given array\n",
    "\n",
    "full_like()\tReturn a full array with the same shape and type as a given array.\n",
    "\n",
    "array()\tCreate an array\n",
    "\n",
    "asarray()\tConvert the input to an array\n",
    "\n",
    "asanyarray()\tConvert the input to an ndarray, but pass ndarray subclasses through\n",
    "\n",
    "ascontiguousarray()\tReturn a contiguous array in memory (C order)\n",
    "\n",
    "asmatrix()\tInterpret the input as a matrix\n",
    "\n",
    "copy()\tReturn an array copy of the given object\n",
    "\n",
    "frombuffer()\tInterpret a buffer as a 1-dimensional array\n",
    "\n",
    "fromfile()\tConstruct an array from data in a text or binary file\n",
    "\n",
    "fromfunction()\tConstruct an array by executing a function over each coordinate\n",
    "\n",
    "fromiter()\tCreate a new 1-dimensional array from an iterable object\n",
    "\n",
    "fromstring()\tA new 1-D array initialized from text data in a string\n",
    "\n",
    "loadtxt()\tLoad data from a text file\n",
    "\n",
    "arange()\tReturn evenly spaced values within a given interval\n",
    "\n",
    "linspace()\tReturn evenly spaced numbers over a specified interval\n",
    "\n",
    "logspace()\tReturn numbers spaced evenly on a log scale\n",
    "\n",
    "geomspace()\tReturn numbers spaced evenly on a log scale (a geometric progression)\n",
    "\n",
    "meshgrid()\tReturn coordinate matrices from coordinate vectors\n",
    "\n",
    "mgrid()\tnd_grid instance which returns a dense multi-dimensional “meshgrid\n",
    "\n",
    "ogrid()\tnd_grid instance which returns an open multi-dimensional “meshgrid\n",
    "\n",
    "diag()\tExtract a diagonal or construct a diagonal array\n",
    "\n",
    "diagflat()\tCreate a two-dimensional array with the flattened input as a diagonal\n",
    "\n",
    "tri()\tAn array with ones at and below the given diagonal and zeros elsewhere\n",
    "\n",
    "tril()\tLower triangle of an array\n",
    "\n",
    "triu()\tUpper triangle of an array\n",
    "\n",
    "vander()\tGenerate a Vandermonde matrix\n",
    "\n",
    "mat()\tInterpret the input as a matrix\n",
    "\n",
    "bmat()\tBuild a matrix object from a string, nested sequence, or array"
   ]
  },
  {
   "cell_type": "code",
   "execution_count": null,
   "metadata": {},
   "outputs": [],
   "source": []
  }
 ],
 "metadata": {
  "kernelspec": {
   "display_name": "Python 3",
   "language": "python",
   "name": "python3"
  },
  "language_info": {
   "codemirror_mode": {
    "name": "ipython",
    "version": 3
   },
   "file_extension": ".py",
   "mimetype": "text/x-python",
   "name": "python",
   "nbconvert_exporter": "python",
   "pygments_lexer": "ipython3",
   "version": "3.7.4"
  }
 },
 "nbformat": 4,
 "nbformat_minor": 2
}
