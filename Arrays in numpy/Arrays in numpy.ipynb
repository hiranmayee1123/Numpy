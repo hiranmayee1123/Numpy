{
 "cells": [
  {
   "cell_type": "code",
   "execution_count": 1,
   "metadata": {},
   "outputs": [
    {
     "name": "stdout",
     "output_type": "stream",
     "text": [
      "Array with Rank 1: \n",
      " [1 2 3]\n",
      "Array with Rank 2: \n",
      " [[1 2 3]\n",
      " [4 5 6]]\n",
      "\n",
      "Array created using passed tuple:\n",
      " [1 3 2]\n"
     ]
    }
   ],
   "source": [
    "import numpy as np\n",
    "\n",
    "# Creating a rank 1 Array\n",
    "arr = np.array([1, 2, 3])\n",
    "print(\"Array with Rank 1: \\n\",arr)\n",
    " \n",
    "# Creating a rank 2 Array\n",
    "arr = np.array([[1, 2, 3],\n",
    "                [4, 5, 6]])\n",
    "print(\"Array with Rank 2: \\n\", arr)\n",
    " \n",
    "# Creating an array from tuple\n",
    "arr = np.array((1, 3, 2))\n",
    "print(\"\\nArray created using \"\n",
    "      \"passed tuple:\\n\", arr)"
   ]
  },
  {
   "cell_type": "code",
   "execution_count": 2,
   "metadata": {},
   "outputs": [
    {
     "name": "stdout",
     "output_type": "stream",
     "text": [
      "Initial Array: \n",
      "[[-1.   2.   0.   4. ]\n",
      " [ 4.  -0.5  6.   0. ]\n",
      " [ 2.6  0.   7.   8. ]\n",
      " [ 3.  -7.   4.   2. ]]\n",
      "Array with first 2 rows and alternate columns(0 and 2):\n",
      " [[-1.  0.]\n",
      " [ 4.  6.]]\n",
      "\n",
      "Elements at indices (1, 3), (1, 2), (0, 1), (3, 0):\n",
      " [0. 6. 2. 3.]\n"
     ]
    }
   ],
   "source": [
    "import numpy as np\n",
    " \n",
    "# Initial Array\n",
    "arr = np.array([[-1, 2, 0, 4],\n",
    "                [4, -0.5, 6, 0],\n",
    "                [2.6, 0, 7, 8],\n",
    "                [3, -7, 4, 2.0]])\n",
    "print(\"Initial Array: \")\n",
    "print(arr)\n",
    " \n",
    "# Printing a range of Array\n",
    "# with the use of slicing method\n",
    "sliced_arr = arr[:2, ::2]\n",
    "print (\"Array with first 2 rows and\"\n",
    "    \" alternate columns(0 and 2):\\n\", sliced_arr)\n",
    " \n",
    "# Printing elements at\n",
    "# specific Indices\n",
    "Index_arr = arr[[1, 1, 0, 3], \n",
    "                [3, 2, 1, 0]]\n",
    "print (\"\\nElements at indices (1, 3), \"\n",
    "    \"(1, 2), (0, 1), (3, 0):\\n\", Index_arr)\n"
   ]
  },
  {
   "cell_type": "code",
   "execution_count": 3,
   "metadata": {},
   "outputs": [
    {
     "name": "stdout",
     "output_type": "stream",
     "text": [
      "Adding 1 to every element: [[2 3]\n",
      " [4 5]]\n",
      "\n",
      "Subtracting 2 from each element: [[ 2  1]\n",
      " [ 0 -1]]\n",
      "\n",
      "Sum of all array elements:  10\n",
      "\n",
      "Array sum:\n",
      " [[5 5]\n",
      " [5 5]]\n"
     ]
    }
   ],
   "source": [
    "import numpy as np\n",
    " \n",
    "# Defining Array 1\n",
    "a = np.array([[1, 2],\n",
    "              [3, 4]])\n",
    " \n",
    "# Defining Array 2\n",
    "b = np.array([[4, 3],\n",
    "              [2, 1]])\n",
    "               \n",
    "# Adding 1 to every element\n",
    "print (\"Adding 1 to every element:\", a + 1)\n",
    " \n",
    "# Subtracting 2 from each element\n",
    "print (\"\\nSubtracting 2 from each element:\", b - 2)\n",
    " \n",
    "# sum of array elements\n",
    "# Performing Unary operations\n",
    "print (\"\\nSum of all array \"\n",
    "       \"elements: \", a.sum())\n",
    " \n",
    "# Adding two arrays\n",
    "# Performing Binary operations\n",
    "print (\"\\nArray sum:\\n\", a + b)"
   ]
  },
  {
   "cell_type": "code",
   "execution_count": 4,
   "metadata": {},
   "outputs": [
    {
     "name": "stdout",
     "output_type": "stream",
     "text": [
      "Integer Datatype: \n",
      "int32\n",
      "\n",
      "Float Datatype: \n",
      "float64\n",
      "\n",
      "Forcing a Datatype: \n",
      "int64\n"
     ]
    }
   ],
   "source": [
    "# Python Program to create\n",
    "# a data type object\n",
    "import numpy as np\n",
    " \n",
    "# Integer datatype\n",
    "# guessed by Numpy\n",
    "x = np.array([1, 2])  \n",
    "print(\"Integer Datatype: \")\n",
    "print(x.dtype)         \n",
    " \n",
    "# Float datatype\n",
    "# guessed by Numpy\n",
    "x = np.array([1.0, 2.0]) \n",
    "print(\"\\nFloat Datatype: \")\n",
    "print(x.dtype)  \n",
    " \n",
    "# Forced Datatype\n",
    "x = np.array([1, 2], dtype = np.int64)   \n",
    "print(\"\\nForcing a Datatype: \")\n",
    "print(x.dtype)"
   ]
  },
  {
   "cell_type": "code",
   "execution_count": 5,
   "metadata": {},
   "outputs": [
    {
     "name": "stdout",
     "output_type": "stream",
     "text": [
      "Addition of Two Arrays: \n",
      "[[ 7. 13.]\n",
      " [ 4. 14.]]\n",
      "\n",
      "Addition of Array elements: \n",
      "19.0\n",
      "\n",
      "Square root of Array1 elements: \n",
      "[[2.         2.64575131]\n",
      " [1.41421356 2.44948974]]\n",
      "\n",
      "Transpose of Array: \n",
      "[[4. 2.]\n",
      " [7. 6.]]\n"
     ]
    }
   ],
   "source": [
    "# Python Program to create\n",
    "# a data type object\n",
    "import numpy as np\n",
    " \n",
    "# First Array\n",
    "arr1 = np.array([[4, 7], [2, 6]], \n",
    "                 dtype = np.float64)\n",
    "                  \n",
    "# Second Array\n",
    "arr2 = np.array([[3, 6], [2, 8]], \n",
    "                 dtype = np.float64) \n",
    " \n",
    "# Addition of two Arrays\n",
    "Sum = np.add(arr1, arr2)\n",
    "print(\"Addition of Two Arrays: \")\n",
    "print(Sum)\n",
    " \n",
    "# Addition of all Array elements\n",
    "# using predefined sum method\n",
    "Sum1 = np.sum(arr1)\n",
    "print(\"\\nAddition of Array elements: \")\n",
    "print(Sum1)\n",
    " \n",
    "# Square root of Array\n",
    "Sqrt = np.sqrt(arr1)\n",
    "print(\"\\nSquare root of Array1 elements: \")\n",
    "print(Sqrt)\n",
    " \n",
    "# Transpose of Array\n",
    "# using In-built function 'T'\n",
    "Trans_arr = arr1.T\n",
    "print(\"\\nTranspose of Array: \")\n",
    "print(Trans_arr)"
   ]
  },
  {
   "cell_type": "code",
   "execution_count": null,
   "metadata": {},
   "outputs": [],
   "source": []
  }
 ],
 "metadata": {
  "kernelspec": {
   "display_name": "Python 3",
   "language": "python",
   "name": "python3"
  },
  "language_info": {
   "codemirror_mode": {
    "name": "ipython",
    "version": 3
   },
   "file_extension": ".py",
   "mimetype": "text/x-python",
   "name": "python",
   "nbconvert_exporter": "python",
   "pygments_lexer": "ipython3",
   "version": "3.8.5"
  }
 },
 "nbformat": 4,
 "nbformat_minor": 4
}
